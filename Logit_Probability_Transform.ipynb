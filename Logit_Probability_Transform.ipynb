{
 "cells": [
  {
   "cell_type": "code",
   "execution_count": 1,
   "metadata": {},
   "outputs": [
    {
     "name": "stdout",
     "output_type": "stream",
     "text": [
      "Value: 0.8\n",
      "Logit: 1.3862943611198908\n",
      "Probability: 0.8\n"
     ]
    }
   ],
   "source": [
    "import numpy as np\n",
    "\n",
    "\n",
    "def L2P(l):\n",
    "    return np.exp(l) / (1 + np.exp(l))\n",
    "\n",
    "\n",
    "def P2L(p):\n",
    "    return np.log(p / (1 - p))\n",
    "\n",
    "\n",
    "if __name__ == \"__main__\":\n",
    "    v = 0.8\n",
    "    l = P2L(v)\n",
    "    p = L2P(l)\n",
    "    print(f\"Value: {v}\")\n",
    "    print(f\"Logit: {l}\")\n",
    "    print(f\"Probability: {p}\")"
   ]
  },
  {
   "cell_type": "code",
   "execution_count": null,
   "metadata": {},
   "outputs": [],
   "source": []
  }
 ],
 "metadata": {
  "kernelspec": {
   "display_name": "base",
   "language": "python",
   "name": "python3"
  },
  "language_info": {
   "codemirror_mode": {
    "name": "ipython",
    "version": 3
   },
   "file_extension": ".py",
   "mimetype": "text/x-python",
   "name": "python",
   "nbconvert_exporter": "python",
   "pygments_lexer": "ipython3",
   "version": "3.12.7"
  }
 },
 "nbformat": 4,
 "nbformat_minor": 2
}
